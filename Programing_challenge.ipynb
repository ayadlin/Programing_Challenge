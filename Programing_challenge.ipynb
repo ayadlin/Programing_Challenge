{
 "cells": [
  {
   "cell_type": "code",
   "execution_count": 219,
   "metadata": {
    "collapsed": true
   },
   "outputs": [],
   "source": [
    "'''Galvanize programming challenge #1\n",
    "Two words are anagrams if they have the same letters.\n",
    "example anagrams:\n",
    " dog, god\n",
    " act, cat\n",
    " add, dad\n",
    " rats, arts\n",
    " NOT: art, rats\n",
    " NOT: ada, add\n",
    " NOT: dog, dog\n",
    "Write a function `find_anagrams` that returns a list of the strings which\n",
    "are anagrams of another word in an input list.\n",
    "Example:\n",
    ">>> find_anagrams(['bat', 'rats', 'god', 'dog', 'cat', 'arts', 'star'])\n",
    "['rats', 'god', 'dog', 'arts', 'star']''';"
   ]
  },
  {
   "cell_type": "code",
   "execution_count": 125,
   "metadata": {},
   "outputs": [],
   "source": [
    "from collections import defaultdict\n",
    "from collections import Counter"
   ]
  },
  {
   "cell_type": "code",
   "execution_count": 126,
   "metadata": {
    "collapsed": true
   },
   "outputs": [],
   "source": [
    "def is_anagram(word1,word2):\n",
    "    if word1==word2:\n",
    "        return False\n",
    "    return Counter(word1)==Counter(word2)\n",
    "\n",
    "def find_anagrams(words):\n",
    "    output =[]\n",
    "    for word1 in words:\n",
    "        for word2 in words:\n",
    "            if is_anagram(word1,word2):\n",
    "                if word1 not in output:\n",
    "                    output.append(word1)\n",
    "    return output"
   ]
  },
  {
   "cell_type": "code",
   "execution_count": 127,
   "metadata": {},
   "outputs": [
    {
     "data": {
      "text/plain": [
       "['rats', 'god', 'dog', 'arts', 'star']"
      ]
     },
     "execution_count": 127,
     "metadata": {},
     "output_type": "execute_result"
    }
   ],
   "source": [
    "find_anagrams(['bat', 'rats', 'god', 'dog', 'cat', 'arts', 'star'])"
   ]
  },
  {
   "cell_type": "code",
   "execution_count": 30,
   "metadata": {},
   "outputs": [],
   "source": [
    "def find_anagrams(lst):\n",
    "    w_dict = defaultdict(lambda : list())\n",
    "    for word in lst:\n",
    "        w_dict[tuple(sorted(list(word)))].append(word)\n",
    "    rtn_lst =[]\n",
    "    for item in w_dict.values():\n",
    "        if len(item)>1:\n",
    "            rtn_lst.extend(item)\n",
    "    return rtn_lst"
   ]
  },
  {
   "cell_type": "code",
   "execution_count": 32,
   "metadata": {},
   "outputs": [
    {
     "data": {
      "text/plain": [
       "['god', 'dog', 'rats', 'arts', 'star']"
      ]
     },
     "execution_count": 32,
     "metadata": {},
     "output_type": "execute_result"
    }
   ],
   "source": [
    "find_anagrams(['bat', 'rats', 'god', 'dog', 'cat', 'arts', 'star'])"
   ]
  },
  {
   "cell_type": "code",
   "execution_count": 218,
   "metadata": {
    "collapsed": true
   },
   "outputs": [],
   "source": [
    "'''Write a program that prints the numbers from 1 to 100. But for multiples of \n",
    "three print \"Fizz\" instead of the number and for the multiples of five print \"Buzz\".\n",
    "For numbers which are multiples of both three and five print \"FizzBuzz\".\n",
    "Extra credit: Allow the user to specify the starting and ending numbers and the \n",
    "values to use for \"Fizz\" and \"Buzz\" *without* changing the default behavior if no arguments are passed.''';"
   ]
  },
  {
   "cell_type": "code",
   "execution_count": 47,
   "metadata": {},
   "outputs": [],
   "source": [
    "def fizzbuzz(start, end, printing=True):\n",
    "    lst = []\n",
    "    for number in range(start,end+1):\n",
    "        if number%15 == 0:\n",
    "            lst.append('fizzbuzz')\n",
    "        elif number%3 == 0:\n",
    "            lst.append ('fizz')\n",
    "        elif number%5 == 0:\n",
    "            lst.append ('buzz')\n",
    "        else:\n",
    "            lst.append(number)\n",
    "            \n",
    "    if printing == True:\n",
    "        print lst\n",
    "    return lst\n",
    "    "
   ]
  },
  {
   "cell_type": "code",
   "execution_count": 49,
   "metadata": {},
   "outputs": [
    {
     "name": "stdout",
     "output_type": "stream",
     "text": [
      "['fizz', 4, 'buzz', 'fizz', 7, 8, 'fizz', 'buzz', 11, 'fizz', 13, 14, 'fizzbuzz', 16, 17, 'fizz', 19, 'buzz', 'fizz', 22, 23, 'fizz', 'buzz', 26, 'fizz', 28, 29, 'fizzbuzz', 31, 32, 'fizz', 34, 'buzz', 'fizz', 37, 38, 'fizz', 'buzz', 41, 'fizz', 43, 44, 'fizzbuzz', 46, 47, 'fizz', 49, 'buzz', 'fizz', 52, 53, 'fizz', 'buzz', 56, 'fizz', 58, 59, 'fizzbuzz', 61, 62, 'fizz', 64, 'buzz', 'fizz', 67, 68, 'fizz', 'buzz', 71, 'fizz', 73, 74, 'fizzbuzz', 76, 77, 'fizz', 79, 'buzz', 'fizz', 82, 83, 'fizz', 'buzz', 86, 'fizz', 88, 89, 'fizzbuzz', 91, 92, 'fizz', 94, 'buzz', 'fizz', 97, 98, 'fizz', 'buzz']\n"
     ]
    }
   ],
   "source": [
    "lst = fizzbuzz(3,100)"
   ]
  },
  {
   "cell_type": "code",
   "execution_count": 50,
   "metadata": {
    "collapsed": true
   },
   "outputs": [],
   "source": [
    "def fizzbuzz(start, end, fizz, buzz, printing=True):\n",
    "    lst = []\n",
    "    for number in range(start,end+1):\n",
    "        if number%fizz==0 and number%buzz == 0:\n",
    "            lst.append('fizzbuzz')\n",
    "        elif number%fizz == 0:\n",
    "            lst.append ('fizz')\n",
    "        elif number%buzz == 0:\n",
    "            lst.append ('buzz')\n",
    "        else:\n",
    "            lst.append(number)\n",
    "            \n",
    "    if printing == True:\n",
    "        print lst\n",
    "    return lst"
   ]
  },
  {
   "cell_type": "code",
   "execution_count": 51,
   "metadata": {},
   "outputs": [
    {
     "name": "stdout",
     "output_type": "stream",
     "text": [
      "['fizz', 4, 'buzz', 'fizz', 7, 8, 'fizz', 'buzz', 11, 'fizz', 13, 14, 'fizzbuzz', 16, 17, 'fizz', 19, 'buzz', 'fizz', 22, 23, 'fizz', 'buzz', 26, 'fizz', 28, 29, 'fizzbuzz', 31, 32, 'fizz', 34, 'buzz', 'fizz', 37, 38, 'fizz', 'buzz', 41, 'fizz', 43, 44, 'fizzbuzz', 46, 47, 'fizz', 49, 'buzz', 'fizz', 52, 53, 'fizz', 'buzz', 56, 'fizz', 58, 59, 'fizzbuzz', 61, 62, 'fizz', 64, 'buzz', 'fizz', 67, 68, 'fizz', 'buzz', 71, 'fizz', 73, 74, 'fizzbuzz', 76, 77, 'fizz', 79, 'buzz', 'fizz', 82, 83, 'fizz', 'buzz', 86, 'fizz', 88, 89, 'fizzbuzz', 91, 92, 'fizz', 94, 'buzz', 'fizz', 97, 98, 'fizz', 'buzz']\n"
     ]
    }
   ],
   "source": [
    "lst = fizzbuzz(3,100,3,5)"
   ]
  },
  {
   "cell_type": "code",
   "execution_count": 55,
   "metadata": {},
   "outputs": [],
   "source": [
    "def fizzandbuzz(number, fizz=3, buzz=5):\n",
    "    if number%fizz==0 and number%buzz == 0:\n",
    "        return 'fizzbuzz'\n",
    "    elif number%fizz == 0:\n",
    "        return('fizz')\n",
    "    elif number%buzz == 0:\n",
    "        return('buzz')\n",
    "    else:\n",
    "        return(number)\n",
    "            \n",
    "def fizz_buzz(start=0, end=100, fizz=3, buzz=5, printing=True):\n",
    "    lst =[]\n",
    "    for number in range(start, end+1):\n",
    "        lst.append(fizzandbuzz(number, fizz, buzz))\n",
    "    if printing == True:\n",
    "        print lst\n",
    "    return lst\n",
    "    "
   ]
  },
  {
   "cell_type": "code",
   "execution_count": 57,
   "metadata": {},
   "outputs": [
    {
     "name": "stdout",
     "output_type": "stream",
     "text": [
      "['fizz', -2, -1, 'fizzbuzz', 1, 2, 'fizz', 4, 'buzz', 'fizz', 7, 8, 'fizz', 'buzz', 11, 'fizz', 13, 14, 'fizzbuzz', 16, 17, 'fizz', 19, 'buzz', 'fizz', 22, 23, 'fizz', 'buzz', 26, 'fizz', 28, 29, 'fizzbuzz', 31, 32, 'fizz', 34, 'buzz', 'fizz', 37, 38, 'fizz', 'buzz', 41, 'fizz', 43, 44, 'fizzbuzz', 46, 47, 'fizz', 49, 'buzz', 'fizz', 52, 53, 'fizz', 'buzz', 56, 'fizz', 58, 59, 'fizzbuzz', 61, 62, 'fizz', 64, 'buzz', 'fizz', 67, 68, 'fizz', 'buzz', 71, 'fizz', 73, 74, 'fizzbuzz', 76, 77, 'fizz', 79, 'buzz', 'fizz', 82, 83, 'fizz', 'buzz', 86, 'fizz', 88, 89, 'fizzbuzz', 91, 92, 'fizz', 94, 'buzz', 'fizz', 97, 98, 'fizz', 'buzz']\n"
     ]
    }
   ],
   "source": [
    "lst = fizz_buzz(-3,100,3,5)"
   ]
  },
  {
   "cell_type": "code",
   "execution_count": 72,
   "metadata": {},
   "outputs": [],
   "source": [
    "### for interview do function that does the repeat thing once and the use it!\n",
    "\n",
    "def fizzbuzz_encode(x, fizz=3, buzz=5):\n",
    "    '''return the fizzbuzz form if number'''\n",
    "    output = ''\n",
    "    if x%fizz == 0:\n",
    "        output +='fizz'\n",
    "    if x%buzz == 0:\n",
    "        output +='buzz'\n",
    "    if not output:\n",
    "        output = str(x)\n",
    "    return output\n",
    "\n",
    "def fizzbuzz_range(*args,**kwargs):\n",
    "    for x in range(*args,**kwargs):\n",
    "        yield fizzbuzz_encode(x)\n",
    "\n",
    "def fizzbuzz(start, stop):\n",
    "    for line in fizzbuzz_range(start,stop):\n",
    "        print (line)"
   ]
  },
  {
   "cell_type": "code",
   "execution_count": 74,
   "metadata": {
    "scrolled": true
   },
   "outputs": [
    {
     "name": "stdout",
     "output_type": "stream",
     "text": [
      "1\n",
      "2\n",
      "fizz\n",
      "4\n",
      "buzz\n",
      "fizz\n",
      "7\n",
      "8\n",
      "fizz\n",
      "buzz\n",
      "11\n",
      "fizz\n",
      "13\n",
      "14\n",
      "fizzbuzz\n",
      "16\n",
      "17\n",
      "fizz\n",
      "19\n",
      "buzz\n",
      "fizz\n",
      "22\n",
      "23\n",
      "fizz\n",
      "buzz\n",
      "26\n",
      "fizz\n",
      "28\n",
      "29\n",
      "fizzbuzz\n",
      "31\n",
      "32\n",
      "fizz\n",
      "34\n",
      "buzz\n",
      "fizz\n",
      "37\n",
      "38\n",
      "fizz\n",
      "buzz\n",
      "41\n",
      "fizz\n",
      "43\n",
      "44\n",
      "fizzbuzz\n",
      "46\n",
      "47\n",
      "fizz\n",
      "49\n",
      "buzz\n",
      "fizz\n",
      "52\n",
      "53\n",
      "fizz\n",
      "buzz\n",
      "56\n",
      "fizz\n",
      "58\n",
      "59\n",
      "fizzbuzz\n",
      "61\n",
      "62\n",
      "fizz\n",
      "64\n",
      "buzz\n",
      "fizz\n",
      "67\n",
      "68\n",
      "fizz\n",
      "buzz\n",
      "71\n",
      "fizz\n",
      "73\n",
      "74\n",
      "fizzbuzz\n",
      "76\n",
      "77\n",
      "fizz\n",
      "79\n",
      "buzz\n",
      "fizz\n",
      "82\n",
      "83\n",
      "fizz\n",
      "buzz\n",
      "86\n",
      "fizz\n",
      "88\n",
      "89\n",
      "fizzbuzz\n",
      "91\n",
      "92\n",
      "fizz\n",
      "94\n",
      "buzz\n",
      "fizz\n",
      "97\n",
      "98\n",
      "fizz\n",
      "buzz\n"
     ]
    }
   ],
   "source": [
    "fizzbuzz(1,101)"
   ]
  },
  {
   "cell_type": "code",
   "execution_count": 216,
   "metadata": {
    "collapsed": true
   },
   "outputs": [],
   "source": [
    "\"\"\"\n",
    "You have a shuffled deck of 60 cards containing the following cards of special interest:\n",
    "  - Three of the cards in the deck are marked with a diamond.\n",
    "  - Three of the cards are marked with a star.  \n",
    "  - The remaining cards are nothing special.\n",
    "You draw an initial hand of five cards, after which you *must* discard any of the star cards\n",
    "for an additional three cards drawn from the top of the deck. This process is repeated until\n",
    "you find yourself with a hand that does *not* contain any star cards. Write a simulation to\n",
    "approximate the probability that your initial draw results in a final hand containing a diamond\n",
    "card.\n",
    "\"\"\";"
   ]
  },
  {
   "cell_type": "code",
   "execution_count": 120,
   "metadata": {},
   "outputs": [],
   "source": [
    "from random import shuffle\n",
    "from copy import copy\n",
    "from __future__ import division\n",
    "\n",
    "def create_master_deck(n=54,s=3,d=3):\n",
    "    master_deck = n*['n'] +d*['d']+ s*['s']\n",
    "    return master_deck\n",
    "\n",
    "def draw(deck, hand, times =1):\n",
    "    for time in range(times):\n",
    "        hand.append(deck.pop())\n",
    "\n",
    "\n",
    "def simulate_hand(master_deck):\n",
    "    deck =copy(master_deck)\n",
    "    shuffle(deck)\n",
    "    hand=[]\n",
    "    draw(deck, hand,5)\n",
    "    while 's' in hand:\n",
    "        hand.remove('s')\n",
    "        draw(deck, hand,3)\n",
    "    return 'd' in hand\n",
    "\n",
    "def calculate_prod_of_d_in_hand(master_deck,sim_number=1000):\n",
    "    counter = 0\n",
    "    diamonds =0\n",
    "    while counter <= sim_number:\n",
    "        diamonds += simulate_hand(master_deck)\n",
    "        counter +=1\n",
    "    return diamonds/sim_number\n",
    "        \n"
   ]
  },
  {
   "cell_type": "code",
   "execution_count": 124,
   "metadata": {},
   "outputs": [
    {
     "data": {
      "text/plain": [
       "0.2679"
      ]
     },
     "execution_count": 124,
     "metadata": {},
     "output_type": "execute_result"
    }
   ],
   "source": [
    "calculate_prod_of_d_in_hand(create_master_deck(), sim_number=10000)"
   ]
  },
  {
   "cell_type": "code",
   "execution_count": 128,
   "metadata": {},
   "outputs": [
    {
     "data": {
      "text/plain": [
       "0.423"
      ]
     },
     "execution_count": 128,
     "metadata": {},
     "output_type": "execute_result"
    }
   ],
   "source": [
    "calculate_prod_of_d_in_hand(create_master_deck(44,4,4), sim_number=10000)"
   ]
  },
  {
   "cell_type": "code",
   "execution_count": 215,
   "metadata": {},
   "outputs": [],
   "source": [
    "'''\n",
    "Galvanize programming challenge #3\n",
    "From https://www.codewars.com/kata/sum-of-pairs\n",
    "sum_pairs([11, 3, 7, 5],         10)\n",
    "#              ^--^      3 + 7 = 10\n",
    "== [3, 7]\n",
    "sum_pairs([4, 3, 2, 3, 4],         6)\n",
    "#          ^-----^         4 + 2 = 6, indices: 0, 2 *\n",
    "#             ^-----^      3 + 3 = 6, indices: 1, 3\n",
    "#                ^-----^   2 + 4 = 6, indices: 2, 4\n",
    "#  * entire pair is earlier, and therefore is the correct answer\n",
    "== [4, 2]\n",
    "sum_pairs([0, 0, -2, 3], 2)\n",
    "#  there are no pairs of values that can be added to produce 2.\n",
    "== None/nil/undefined (Based on the language)\n",
    "sum_pairs([10, 5, 2, 3, 7, 5],         10)\n",
    "#              ^-----------^   5 + 5 = 10, indices: 1, 5\n",
    "#                    ^--^      3 + 7 = 10, indices: 3, 4 *\n",
    "#  * entire pair is earlier, and therefore is the correct answer\n",
    "== [3, 7]''';"
   ]
  },
  {
   "cell_type": "code",
   "execution_count": 129,
   "metadata": {
    "collapsed": true
   },
   "outputs": [],
   "source": [
    "from collections import deque"
   ]
  },
  {
   "cell_type": "code",
   "execution_count": 203,
   "metadata": {},
   "outputs": [],
   "source": [
    "def is_sum_target(num1,num2,target):\n",
    "    return num1+num2==target\n",
    "\n",
    "def sum_pairs(numbers,target):\n",
    "    #numbers=deque(numbers)\n",
    "    lst=[]\n",
    "    for i,num1 in enumerate(numbers):\n",
    "        numbers2 = copy(numbers)\n",
    "        for j,num2 in enumerate(numbers2[1:]):\n",
    "            if is_sum_target(num1,num2,target):\n",
    "                lst.append([num1,num2,(i,j)])\n",
    "        \n",
    "        numbers2.pop(0)\n",
    "    if not lst:\n",
    "        return 'no possible pair adding to target'\n",
    "    else: \n",
    "        return lst \n",
    "    \n",
    "        \n",
    "            \n",
    "        "
   ]
  },
  {
   "cell_type": "code",
   "execution_count": 204,
   "metadata": {},
   "outputs": [
    {
     "data": {
      "text/plain": [
       "[[5, 5, (1, 0)],\n",
       " [5, 5, (1, 4)],\n",
       " [3, 7, (3, 3)],\n",
       " [7, 3, (4, 2)],\n",
       " [5, 5, (5, 0)],\n",
       " [5, 5, (5, 4)]]"
      ]
     },
     "execution_count": 204,
     "metadata": {},
     "output_type": "execute_result"
    }
   ],
   "source": [
    "sum_pairs([10, 5, 2, 3, 7, 5] ,       10)"
   ]
  },
  {
   "cell_type": "code",
   "execution_count": 161,
   "metadata": {},
   "outputs": [],
   "source": [
    "from itertools import combinations"
   ]
  },
  {
   "cell_type": "code",
   "execution_count": 176,
   "metadata": {},
   "outputs": [],
   "source": [
    "def sum_pairs(numbers, target):\n",
    "    for combo in combinations(numbers,2):\n",
    "        if is_sum_target(combo[0],combo[1], target):\n",
    "            return list(combo)\n",
    "    return 'no possible pair adding to target'\n",
    "        "
   ]
  },
  {
   "cell_type": "code",
   "execution_count": 198,
   "metadata": {},
   "outputs": [
    {
     "data": {
      "text/plain": [
       "[5, 5]"
      ]
     },
     "execution_count": 198,
     "metadata": {},
     "output_type": "execute_result"
    }
   ],
   "source": [
    "\n",
    "sum_pairs([10, 5, 2, 3, 7, 5] ,       10)"
   ]
  },
  {
   "cell_type": "code",
   "execution_count": 207,
   "metadata": {
    "collapsed": true
   },
   "outputs": [],
   "source": [
    "def sum_pairs(int_list,target):\n",
    "    tried =set()\n",
    "    for value in int_list:\n",
    "        rem = target - value\n",
    "        if rem in tried:\n",
    "            return [rem, value]\n",
    "        tried.add(value)"
   ]
  },
  {
   "cell_type": "code",
   "execution_count": 208,
   "metadata": {},
   "outputs": [
    {
     "data": {
      "text/plain": [
       "[3, 7]"
      ]
     },
     "execution_count": 208,
     "metadata": {},
     "output_type": "execute_result"
    }
   ],
   "source": [
    "sum_pairs([10, 5, 2, 3, 7, 5] ,       10)"
   ]
  },
  {
   "cell_type": "code",
   "execution_count": 220,
   "metadata": {
    "collapsed": true
   },
   "outputs": [],
   "source": [
    "''' Euler Triangle''';"
   ]
  },
  {
   "cell_type": "markdown",
   "metadata": {},
   "source": [
    "By starting at the top of the triangle below and moving to adjacent numbers on the row below, the maximum total from top to bottom is 23.\n",
    "\n",
    "3\n",
    "7 4\n",
    "2 4 6\n",
    "8 5 9 3\n",
    "\n",
    "That is, 3 + 7 + 4 + 9 = 23.\n",
    "\n",
    "Find the maximum total from top to bottom of the triangle below:\n",
    "\n",
    "75  \n",
    "95 64  \n",
    "17 47 82  \n",
    "18 35 87 10  \n",
    "20 04 82 47 65  \n",
    "19 01 23 75 03 34  \n",
    "88 02 77 73 07 63 67  \n",
    "99 65 04 28 06 16 70 92  \n",
    "41 41 26 56 83 40 80 70 33  \n",
    "41 48 72 33 47 32 37 16 94 29  \n",
    "53 71 44 65 25 43 91 52 97 51 14  \n",
    "70 11 33 28 77 73 17 78 39 68 17 57  \n",
    "91 71 52 38 17 14 91 43 58 50 27 29 48  \n",
    "63 66 04 68 89 53 67 30 73 16 69 87 40 31  \n",
    "04 62 98 27 23 09 70 98 73 93 38 53 60 04 23  \n",
    "\n",
    "NOTE: As there are only 16384 routes, it is possible to solve this problem by trying every route. However, Problem 67, is the same challenge with a triangle containing one-hundred rows; it cannot be solved by brute force, and requires a clever method! ;o)"
   ]
  },
  {
   "cell_type": "code",
   "execution_count": 221,
   "metadata": {
    "collapsed": true
   },
   "outputs": [],
   "source": [
    "import numpy as np"
   ]
  },
  {
   "cell_type": "code",
   "execution_count": 225,
   "metadata": {},
   "outputs": [],
   "source": [
    "matrix = np.zeros((4,4))"
   ]
  },
  {
   "cell_type": "code",
   "execution_count": 226,
   "metadata": {},
   "outputs": [
    {
     "data": {
      "text/plain": [
       "array([[ 0.,  0.,  0.,  0.],\n",
       "       [ 0.,  0.,  0.,  0.],\n",
       "       [ 0.,  0.,  0.,  0.],\n",
       "       [ 0.,  0.,  0.,  0.]])"
      ]
     },
     "execution_count": 226,
     "metadata": {},
     "output_type": "execute_result"
    }
   ],
   "source": [
    "matrix"
   ]
  },
  {
   "cell_type": "code",
   "execution_count": 227,
   "metadata": {
    "collapsed": true
   },
   "outputs": [],
   "source": [
    "matrix[0,0]=3"
   ]
  },
  {
   "cell_type": "code",
   "execution_count": 229,
   "metadata": {},
   "outputs": [],
   "source": [
    "matrix[1,0]= 7\n",
    "matrix[1,1]= 4\n",
    "matrix[2,0] =2 \n",
    "matrix[2,1]= 4 \n",
    "matrix[2,2] =6\n",
    "matrix[3,0] = 8 \n",
    "matrix[3,1]=5 \n",
    "matrix[3,2] =9 \n",
    "matrix[3,3]=3"
   ]
  },
  {
   "cell_type": "code",
   "execution_count": 230,
   "metadata": {},
   "outputs": [
    {
     "data": {
      "text/plain": [
       "array([[ 3.,  0.,  0.,  0.],\n",
       "       [ 7.,  4.,  0.,  0.],\n",
       "       [ 2.,  4.,  6.,  0.],\n",
       "       [ 8.,  5.,  9.,  3.]])"
      ]
     },
     "execution_count": 230,
     "metadata": {},
     "output_type": "execute_result"
    }
   ],
   "source": [
    "matrix"
   ]
  },
  {
   "cell_type": "code",
   "execution_count": 243,
   "metadata": {},
   "outputs": [],
   "source": [
    "def diff_mat(matrix):\n",
    "    diff_mat = np.zeros((matrix.shape[0]-1,matrix.shape[0]-1))                \n",
    "    for i in range(1,matrix.shape[0]):\n",
    "        for j in range(i):\n",
    "            diff_mat[i-1,j]= matrix[i,j]-matrix[i,j+1]\n",
    "    return diff_mat\n",
    "\n"
   ]
  },
  {
   "cell_type": "code",
   "execution_count": 250,
   "metadata": {},
   "outputs": [],
   "source": [
    "diff_matrix=diff_mat(matrix)"
   ]
  },
  {
   "cell_type": "code",
   "execution_count": 251,
   "metadata": {},
   "outputs": [
    {
     "ename": "SyntaxError",
     "evalue": "invalid syntax (<ipython-input-251-c6ee5943cf00>, line 5)",
     "output_type": "error",
     "traceback": [
      "\u001b[0;36m  File \u001b[0;32m\"<ipython-input-251-c6ee5943cf00>\"\u001b[0;36m, line \u001b[0;32m5\u001b[0m\n\u001b[0;31m    print diff_matrix(i,:)\u001b[0m\n\u001b[0m                        ^\u001b[0m\n\u001b[0;31mSyntaxError\u001b[0m\u001b[0;31m:\u001b[0m invalid syntax\n"
     ]
    }
   ],
   "source": [
    "def best_route(matrix):\n",
    "    highest_pass = matrix[0,0]\n",
    "    diff_matrix = diff_mat(matrix)\n",
    "    for i in range(diff_matrix.shape[0],-1):\n",
    "        print diff_matrix(i,:)\n",
    "    "
   ]
  },
  {
   "cell_type": "code",
   "execution_count": 256,
   "metadata": {},
   "outputs": [
    {
     "ename": "SyntaxError",
     "evalue": "invalid syntax (<ipython-input-256-737be5cb8c4a>, line 1)",
     "output_type": "error",
     "traceback": [
      "\u001b[0;36m  File \u001b[0;32m\"<ipython-input-256-737be5cb8c4a>\"\u001b[0;36m, line \u001b[0;32m1\u001b[0m\n\u001b[0;31m    for i in range(diff_matrix.shape[0]:,:-1):\u001b[0m\n\u001b[0m                                       ^\u001b[0m\n\u001b[0;31mSyntaxError\u001b[0m\u001b[0;31m:\u001b[0m invalid syntax\n"
     ]
    }
   ],
   "source": [
    "for i in range(diff_matrix.shape[0]:,:-1):\n",
    "    print diff_matrix[i:]"
   ]
  },
  {
   "cell_type": "code",
   "execution_count": 283,
   "metadata": {
    "collapsed": true
   },
   "outputs": [],
   "source": [
    "lst =[[3],[7,4],[2,4,6],[8,5,9,3]]"
   ]
  },
  {
   "cell_type": "code",
   "execution_count": 284,
   "metadata": {},
   "outputs": [],
   "source": [
    "def max_path_sum(triangle):\n",
    "    if len(triangle)==1:\n",
    "        return triangle[0][0]\n",
    "    bottom = triangle.pop()\n",
    "    _next = triangle.pop()\n",
    "    new_row = []\n",
    "    for i, val in enumerate(_next):\n",
    "        max_sum = max(val+bottom[i],val+bottom[i+1])\n",
    "        new_row.append(max_sum)\n",
    "    triangle.append(new_row)\n",
    "    print(new_row)\n",
    "    return max_path_sum(triangle)\n",
    "                \n",
    "        "
   ]
  },
  {
   "cell_type": "code",
   "execution_count": 285,
   "metadata": {},
   "outputs": [
    {
     "name": "stdout",
     "output_type": "stream",
     "text": [
      "[10, 13, 15]\n",
      "[20, 19]\n",
      "[23]\n"
     ]
    },
    {
     "data": {
      "text/plain": [
       "23"
      ]
     },
     "execution_count": 285,
     "metadata": {},
     "output_type": "execute_result"
    }
   ],
   "source": [
    "max_path_sum(lst)"
   ]
  },
  {
   "cell_type": "code",
   "execution_count": 287,
   "metadata": {
    "collapsed": true
   },
   "outputs": [],
   "source": [
    "'''Given an infinite number of US coins (coins = [1, 5, 10, 25]) \n",
    "and an amount value in cents, what are minimum number of coins needed to make change for value? \n",
    "Write a function find_change that takes as input the coin denominations coins, and value as the amount in cents. Your function should return the minimum amount of coins necessary to make change \n",
    "for the specified value as an integer.''';"
   ]
  },
  {
   "cell_type": "code",
   "execution_count": 307,
   "metadata": {},
   "outputs": [],
   "source": [
    "def find_change(coins,amount):\n",
    "    coins.sort(reverse=True)\n",
    "    #coin_num = 0\n",
    "    result = {coin: 0 for coin in coins}\n",
    "    for coin in coins:\n",
    "        #coin_num +=amount//coin\n",
    "        result[coin] = amount//coin\n",
    "        amount = amount%coin\n",
    "    coin_num=sum(result.values())\n",
    "    return result, coin_num\n",
    "        "
   ]
  },
  {
   "cell_type": "code",
   "execution_count": 309,
   "metadata": {},
   "outputs": [
    {
     "data": {
      "text/plain": [
       "({1: 3, 5: 1, 10: 1, 25: 7}, 12)"
      ]
     },
     "execution_count": 309,
     "metadata": {},
     "output_type": "execute_result"
    }
   ],
   "source": [
    "find_change([1,5,10,25],193)"
   ]
  },
  {
   "cell_type": "code",
   "execution_count": null,
   "metadata": {
    "collapsed": true
   },
   "outputs": [],
   "source": []
  }
 ],
 "metadata": {
  "kernelspec": {
   "display_name": "Python 2",
   "language": "python",
   "name": "python2"
  },
  "language_info": {
   "codemirror_mode": {
    "name": "ipython",
    "version": 2
   },
   "file_extension": ".py",
   "mimetype": "text/x-python",
   "name": "python",
   "nbconvert_exporter": "python",
   "pygments_lexer": "ipython2",
   "version": "2.7.13"
  }
 },
 "nbformat": 4,
 "nbformat_minor": 2
}
